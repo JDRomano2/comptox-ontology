{
 "cells": [
  {
   "cell_type": "code",
   "execution_count": 1,
   "metadata": {},
   "outputs": [
    {
     "name": "stdout",
     "output_type": "stream",
     "text": [
      "Populating the interactive namespace from numpy and matplotlib\n"
     ]
    }
   ],
   "source": [
    "%pylab inline"
   ]
  },
  {
   "cell_type": "code",
   "execution_count": 2,
   "metadata": {},
   "outputs": [],
   "source": [
    "from rdflib import Graph as RDFGraph\n",
    "from rdflib.extras.external_graph_libs import rdflib_to_networkx_graph\n",
    "import matplotlib.pyplot as plt\n",
    "\n",
    "import comptox_ai\n",
    "from comptox_ai.utils import *"
   ]
  },
  {
   "cell_type": "code",
   "execution_count": 3,
   "metadata": {},
   "outputs": [
    {
     "name": "stdout",
     "output_type": "stream",
     "text": [
      "Reading RDF file and converting into a networkx graph\n"
     ]
    }
   ],
   "source": [
    "print(\"Reading RDF file and converting into a networkx graph\")\n",
    "rg = rdf_file_to_rdflib(\"../comptox_aop.rdf\")\n",
    "G = rdflib_to_networkx(rg)"
   ]
  },
  {
   "cell_type": "code",
   "execution_count": 4,
   "metadata": {},
   "outputs": [
    {
     "name": "stdout",
     "output_type": "stream",
     "text": [
      "NETWORK SIZE\n",
      "============\n",
      "The network has 86449 nodes and 908770 edges\n",
      "\n",
      "LEAF NODES\n",
      "============\n",
      "The network has 49543 leaf nodes\n",
      "\n",
      "DENSITY\n",
      "============\n",
      "The network density is 0.00024320307030376275\n",
      "\n",
      "DEGREE CENTRALITY\n",
      "=================\n",
      "The mean degree centrality is 0.00024320307030444352, with stdev 0.0034530756118608327\n",
      "The densest node is http://www.w3.org/2002/07/owl#NamedIndividual, with value 0.4221034610401629\n",
      "The sparsest node is 225100, with value 1.1567647603183417e-05\n"
     ]
    }
   ],
   "source": [
    "summarize_networkx_graph(G)"
   ]
  }
 ],
 "metadata": {
  "kernelspec": {
   "display_name": "Python 3",
   "language": "python",
   "name": "python3"
  },
  "language_info": {
   "codemirror_mode": {
    "name": "ipython",
    "version": 3
   },
   "file_extension": ".py",
   "mimetype": "text/x-python",
   "name": "python",
   "nbconvert_exporter": "python",
   "pygments_lexer": "ipython3",
   "version": "3.7.4"
  }
 },
 "nbformat": 4,
 "nbformat_minor": 2
}
