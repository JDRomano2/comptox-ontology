{
 "cells": [
  {
   "cell_type": "code",
   "execution_count": 1,
   "metadata": {},
   "outputs": [],
   "source": [
    "from pprint import pprint\n",
    "from comptox_ai import ComptoxAI"
   ]
  },
  {
   "cell_type": "code",
   "execution_count": 2,
   "metadata": {},
   "outputs": [
    {
     "name": "stdout",
     "output_type": "stream",
     "text": [
      "Loading configuration file...\n"
     ]
    }
   ],
   "source": [
    "cai = ComptoxAI(config_file = '../NEO4J_CONFIG.cfg')"
   ]
  },
  {
   "cell_type": "code",
   "execution_count": 3,
   "metadata": {},
   "outputs": [],
   "source": [
    "shortest_path = cai.graph.aop_shortest_path(\"Event:888\",\"Parkinsonian Disorders\")"
   ]
  },
  {
   "cell_type": "code",
   "execution_count": 4,
   "metadata": {},
   "outputs": [
    {
     "data": {
      "text/plain": [
       "< 'Path' object of nodes with the following URI suffixes:\n",
       "\t[ dis_parkinsonian_disorders,\n",
       "\t ao_parkinsonian_motor_deficits,\n",
       "\t ke_degeneration_of_dopaminergic_neurons_of_the_nigrostriatal_pathway,\n",
       "\t ke_n/a,_mitochondrial_dysfunction_1,\n",
       "\t ke_inhibition,_nadh-ubiquinone_oxidoreductase__(complex_i),\n",
       "\t mie_binding_of_inhibitor,_nadh-ubiquinone_oxidoreductase_(complex_i) ] >"
      ]
     },
     "execution_count": 4,
     "metadata": {},
     "output_type": "execute_result"
    }
   ],
   "source": [
    "shortest_path"
   ]
  },
  {
   "cell_type": "code",
   "execution_count": 5,
   "metadata": {},
   "outputs": [
    {
     "data": {
      "text/plain": [
       "< 'Path' object of nodes with the following URI suffixes:\n",
       "\t[ dis_parkinsonian_disorders,\n",
       "\t ao_parkinsonian_motor_deficits,\n",
       "\t ke_degeneration_of_dopaminergic_neurons_of_the_nigrostriatal_pathway,\n",
       "\t ke_n/a,_mitochondrial_dysfunction_1,\n",
       "\t ke_inhibition,_nadh-ubiquinone_oxidoreductase__(complex_i),\n",
       "\t mie_binding_of_inhibitor,_nadh-ubiquinone_oxidoreductase_(complex_i) ] >"
      ]
     },
     "execution_count": 5,
     "metadata": {},
     "output_type": "execute_result"
    }
   ],
   "source": [
    "shortest_path"
   ]
  },
  {
   "cell_type": "code",
   "execution_count": 6,
   "metadata": {},
   "outputs": [
    {
     "ename": "TypeError",
     "evalue": "'Path' object is not subscriptable",
     "output_type": "error",
     "traceback": [
      "\u001b[0;31m---------------------------------------------------------------------------\u001b[0m",
      "\u001b[0;31mTypeError\u001b[0m                                 Traceback (most recent call last)",
      "\u001b[0;32m<ipython-input-6-60561b6fe2aa>\u001b[0m in \u001b[0;36m<module>\u001b[0;34m\u001b[0m\n\u001b[0;32m----> 1\u001b[0;31m \u001b[0mstart_node\u001b[0m \u001b[0;34m=\u001b[0m \u001b[0mshortest_path\u001b[0m\u001b[0;34m[\u001b[0m\u001b[0;34m'p'\u001b[0m\u001b[0;34m]\u001b[0m\u001b[0;34m.\u001b[0m\u001b[0mstart_node\u001b[0m\u001b[0;34m\u001b[0m\u001b[0;34m\u001b[0m\u001b[0m\n\u001b[0m\u001b[1;32m      2\u001b[0m \u001b[0mend_node\u001b[0m \u001b[0;34m=\u001b[0m \u001b[0mshortest_path\u001b[0m\u001b[0;34m[\u001b[0m\u001b[0;34m'p'\u001b[0m\u001b[0;34m]\u001b[0m\u001b[0;34m.\u001b[0m\u001b[0mend_node\u001b[0m\u001b[0;34m\u001b[0m\u001b[0;34m\u001b[0m\u001b[0m\n",
      "\u001b[0;31mTypeError\u001b[0m: 'Path' object is not subscriptable"
     ]
    }
   ],
   "source": [
    "start_node = shortest_path['p'].start_node\n",
    "end_node = shortest_path['p'].end_node"
   ]
  },
  {
   "cell_type": "code",
   "execution_count": null,
   "metadata": {},
   "outputs": [],
   "source": [
    "start_node['uri']"
   ]
  },
  {
   "cell_type": "code",
   "execution_count": null,
   "metadata": {},
   "outputs": [],
   "source": [
    "def summarize_path(n4j_path):\n",
    "    start = n4j_path['p'].start_node\n",
    "    end = n4j_path['p'].end_node"
   ]
  }
 ],
 "metadata": {
  "kernelspec": {
   "display_name": "Python 3",
   "language": "python",
   "name": "python3"
  },
  "language_info": {
   "codemirror_mode": {
    "name": "ipython",
    "version": 3
   },
   "file_extension": ".py",
   "mimetype": "text/x-python",
   "name": "python",
   "nbconvert_exporter": "python",
   "pygments_lexer": "ipython3",
   "version": "3.7.4"
  }
 },
 "nbformat": 4,
 "nbformat_minor": 2
}
