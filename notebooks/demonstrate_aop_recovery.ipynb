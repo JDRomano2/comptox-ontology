{
 "cells": [
  {
   "cell_type": "code",
   "execution_count": 11,
   "metadata": {},
   "outputs": [],
   "source": [
    "from pprint import pprint\n",
    "from comptox_ai import ComptoxAI"
   ]
  },
  {
   "cell_type": "code",
   "execution_count": 2,
   "metadata": {},
   "outputs": [
    {
     "name": "stdout",
     "output_type": "stream",
     "text": [
      "Loading configuration file...\n"
     ]
    }
   ],
   "source": [
    "cai = ComptoxAI(config_file = '../NEO4J_CONFIG.cfg')"
   ]
  },
  {
   "cell_type": "code",
   "execution_count": 3,
   "metadata": {},
   "outputs": [],
   "source": [
    "shortest_path = cai.graph.aop_shortest_path(\"Event:888\",\"Parkinsonian Disorders\")"
   ]
  },
  {
   "cell_type": "code",
   "execution_count": 4,
   "metadata": {},
   "outputs": [
    {
     "data": {
      "text/plain": [
       "<Record p=<Path start=<Node id=169442 labels={'owl__NamedIndividual', 'ns0__Disease', 'Resource'} properties={'ns0__commonName': 'Parkinsonian Disorders', 'uri': 'http://jdr.bio/ontologies/comptox.owl#dis_parkinsonian_disorders', 'ns0__xrefMeSH': 'D020734'}> end=<Node id=179002 labels={'owl__NamedIndividual', 'ns0__MolecularInitiatingEvent', 'Resource'} properties={'ns0__keyEventName': 'Binding of inhibitor, NADH-ubiquinone oxidoreductase (complex I)', 'uri': 'http://jdr.bio/ontologies/comptox.owl#mie_binding_of_inhibitor,_nadh-ubiquinone_oxidoreductase_(complex_i)', 'ns0__keyEventID': 'Event:888'}> size=5>>"
      ]
     },
     "execution_count": 4,
     "metadata": {},
     "output_type": "execute_result"
    }
   ],
   "source": [
    "shortest_path"
   ]
  },
  {
   "cell_type": "code",
   "execution_count": 18,
   "metadata": {},
   "outputs": [
    {
     "data": {
      "text/plain": [
       "['__class__',\n",
       " '__delattr__',\n",
       " '__dict__',\n",
       " '__dir__',\n",
       " '__doc__',\n",
       " '__eq__',\n",
       " '__format__',\n",
       " '__ge__',\n",
       " '__getattribute__',\n",
       " '__gt__',\n",
       " '__hash__',\n",
       " '__init__',\n",
       " '__init_subclass__',\n",
       " '__iter__',\n",
       " '__le__',\n",
       " '__len__',\n",
       " '__lt__',\n",
       " '__module__',\n",
       " '__ne__',\n",
       " '__new__',\n",
       " '__reduce__',\n",
       " '__reduce_ex__',\n",
       " '__repr__',\n",
       " '__setattr__',\n",
       " '__sizeof__',\n",
       " '__str__',\n",
       " '__subclasshook__',\n",
       " '__weakref__',\n",
       " '_nodes',\n",
       " '_relationships',\n",
       " 'end',\n",
       " 'end_node',\n",
       " 'graph',\n",
       " 'nodes',\n",
       " 'relationships',\n",
       " 'start',\n",
       " 'start_node']"
      ]
     },
     "execution_count": 18,
     "metadata": {},
     "output_type": "execute_result"
    }
   ],
   "source": [
    "dir(shortest_path['p'])"
   ]
  },
  {
   "cell_type": "code",
   "execution_count": 33,
   "metadata": {},
   "outputs": [
    {
     "data": {
      "text/plain": [
       "(<Node id=169442 labels={'owl__NamedIndividual', 'ns0__Disease', 'Resource'} properties={'ns0__commonName': 'Parkinsonian Disorders', 'uri': 'http://jdr.bio/ontologies/comptox.owl#dis_parkinsonian_disorders', 'ns0__xrefMeSH': 'D020734'}>,\n",
       " <Node id=180003 labels={'owl__NamedIndividual', 'ns0__AdverseOutcome', 'Resource'} properties={'ns0__keyEventName': 'Parkinsonian motor deficits', 'uri': 'http://jdr.bio/ontologies/comptox.owl#ao_parkinsonian_motor_deficits', 'ns0__keyEventID': 'Event:896'}>,\n",
       " <Node id=175638 labels={'owl__NamedIndividual', 'ns0__KeyEvent', 'Resource'} properties={'ns0__keyEventName': 'Degeneration of dopaminergic neurons of the nigrostriatal pathway', 'uri': 'http://jdr.bio/ontologies/comptox.owl#ke_degeneration_of_dopaminergic_neurons_of_the_nigrostriatal_pathway', 'ns0__keyEventID': 'Event:890'}>,\n",
       " <Node id=177520 labels={'owl__NamedIndividual', 'ns0__KeyEvent', 'Resource'} properties={'ns0__keyEventName': 'N/A, Mitochondrial dysfunction 1', 'uri': 'http://jdr.bio/ontologies/comptox.owl#ke_n/a,_mitochondrial_dysfunction_1', 'ns0__keyEventID': 'Event:177'}>,\n",
       " <Node id=179942 labels={'owl__NamedIndividual', 'ns0__KeyEvent', 'Resource'} properties={'ns0__keyEventName': 'Inhibition, NADH-ubiquinone oxidoreductase  (complex I)', 'uri': 'http://jdr.bio/ontologies/comptox.owl#ke_inhibition,_nadh-ubiquinone_oxidoreductase__(complex_i)', 'ns0__keyEventID': 'Event:887'}>,\n",
       " <Node id=179002 labels={'owl__NamedIndividual', 'ns0__MolecularInitiatingEvent', 'Resource'} properties={'ns0__keyEventName': 'Binding of inhibitor, NADH-ubiquinone oxidoreductase (complex I)', 'uri': 'http://jdr.bio/ontologies/comptox.owl#mie_binding_of_inhibitor,_nadh-ubiquinone_oxidoreductase_(complex_i)', 'ns0__keyEventID': 'Event:888'}>)"
      ]
     },
     "execution_count": 33,
     "metadata": {},
     "output_type": "execute_result"
    }
   ],
   "source": [
    "shortest_path['p'].nodes"
   ]
  },
  {
   "cell_type": "code",
   "execution_count": 8,
   "metadata": {},
   "outputs": [],
   "source": [
    "start_node = shortest_path['p'].start_node\n",
    "end_node = shortest_path['p'].end_node"
   ]
  },
  {
   "cell_type": "code",
   "execution_count": 9,
   "metadata": {},
   "outputs": [
    {
     "data": {
      "text/plain": [
       "<Node id=169442 labels={'owl__NamedIndividual', 'ns0__Disease', 'Resource'} properties={'ns0__commonName': 'Parkinsonian Disorders', 'uri': 'http://jdr.bio/ontologies/comptox.owl#dis_parkinsonian_disorders', 'ns0__xrefMeSH': 'D020734'}>"
      ]
     },
     "execution_count": 9,
     "metadata": {},
     "output_type": "execute_result"
    }
   ],
   "source": [
    "def summarize_path(n4j_path):\n",
    "    start = n4j_path['p'].start_node\n",
    "    end = n4j_path['p'].end_node"
   ]
  }
 ],
 "metadata": {
  "kernelspec": {
   "display_name": "Python 3",
   "language": "python",
   "name": "python3"
  },
  "language_info": {
   "codemirror_mode": {
    "name": "ipython",
    "version": 3
   },
   "file_extension": ".py",
   "mimetype": "text/x-python",
   "name": "python",
   "nbconvert_exporter": "python",
   "pygments_lexer": "ipython3",
   "version": "3.7.4"
  }
 },
 "nbformat": 4,
 "nbformat_minor": 2
}
