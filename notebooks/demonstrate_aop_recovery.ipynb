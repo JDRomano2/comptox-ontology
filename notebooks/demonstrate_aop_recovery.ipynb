{
 "cells": [
  {
   "cell_type": "code",
   "execution_count": 1,
   "metadata": {},
   "outputs": [],
   "source": [
    "from comptox_ai import ComptoxAI"
   ]
  },
  {
   "cell_type": "code",
   "execution_count": 2,
   "metadata": {},
   "outputs": [
    {
     "name": "stdout",
     "output_type": "stream",
     "text": [
      "Loading configuration file...\n"
     ]
    }
   ],
   "source": [
    "cai = ComptoxAI(config_file = '../NEO4J_CONFIG.cfg')"
   ]
  },
  {
   "cell_type": "code",
   "execution_count": 3,
   "metadata": {},
   "outputs": [],
   "source": [
    "shortest_path = cai.graph.aop_shortest_path(\"Event:888\",\"Parkinsonian Disorders\")"
   ]
  },
  {
   "cell_type": "code",
   "execution_count": 4,
   "metadata": {},
   "outputs": [
    {
     "data": {
      "text/plain": [
       "<Record p=<Path start=<Node id=169442 labels={'ns0__Disease', 'Resource', 'owl__NamedIndividual'} properties={'ns0__commonName': 'Parkinsonian Disorders', 'uri': 'http://jdr.bio/ontologies/comptox.owl#dis_parkinsonian_disorders', 'ns0__xrefMeSH': 'D020734'}> end=<Node id=179002 labels={'Resource', 'owl__NamedIndividual', 'ns0__MolecularInitiatingEvent'} properties={'ns0__keyEventName': 'Binding of inhibitor, NADH-ubiquinone oxidoreductase (complex I)', 'uri': 'http://jdr.bio/ontologies/comptox.owl#mie_binding_of_inhibitor,_nadh-ubiquinone_oxidoreductase_(complex_i)', 'ns0__keyEventID': 'Event:888'}> size=5>>"
      ]
     },
     "execution_count": 4,
     "metadata": {},
     "output_type": "execute_result"
    }
   ],
   "source": [
    "shortest_path"
   ]
  },
  {
   "cell_type": "code",
   "execution_count": 5,
   "metadata": {},
   "outputs": [],
   "source": [
    "#adverse_outcomes = cai.graph.fetch_nodes_by_label(\"AdverseOutcome\")"
   ]
  },
  {
   "cell_type": "code",
   "execution_count": 20,
   "metadata": {},
   "outputs": [
    {
     "data": {
      "text/plain": [
       "'Binding of inhibitor, NADH-ubiquinone oxidoreductase (complex I)'"
      ]
     },
     "execution_count": 20,
     "metadata": {},
     "output_type": "execute_result"
    }
   ],
   "source": [
    "shortest_path['p'].end_node['ns0__keyEventName']"
   ]
  },
  {
   "cell_type": "code",
   "execution_count": null,
   "metadata": {},
   "outputs": [],
   "source": [
    "start_node = shortest_path['p'].start_node\n",
    "end_node = shortest_path['p'].end_node"
   ]
  }
 ],
 "metadata": {
  "kernelspec": {
   "display_name": "Python 3",
   "language": "python",
   "name": "python3"
  },
  "language_info": {
   "codemirror_mode": {
    "name": "ipython",
    "version": 3
   },
   "file_extension": ".py",
   "mimetype": "text/x-python",
   "name": "python",
   "nbconvert_exporter": "python",
   "pygments_lexer": "ipython3",
   "version": "3.7.4"
  }
 },
 "nbformat": 4,
 "nbformat_minor": 2
}
