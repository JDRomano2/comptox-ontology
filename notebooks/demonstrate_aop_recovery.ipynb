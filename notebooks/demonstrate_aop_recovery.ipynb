{
 "cells": [
  {
   "cell_type": "code",
   "execution_count": 1,
   "metadata": {},
   "outputs": [],
   "source": [
    "from pprint import pprint\n",
    "from comptox_ai import ComptoxAI"
   ]
  },
  {
   "cell_type": "code",
   "execution_count": 2,
   "metadata": {},
   "outputs": [
    {
     "name": "stdout",
     "output_type": "stream",
     "text": [
      "Loading configuration file...\n"
     ]
    }
   ],
   "source": [
    "cai = ComptoxAI(config_file = '../NEO4J_CONFIG.cfg')"
   ]
  },
  {
   "cell_type": "code",
   "execution_count": 3,
   "metadata": {},
   "outputs": [],
   "source": [
    "shortest_path = cai.graph.aop_shortest_path(\"Event:888\",\"Parkinsonian Disorders\")"
   ]
  },
  {
   "cell_type": "code",
   "execution_count": 4,
   "metadata": {},
   "outputs": [
    {
     "data": {
      "text/plain": [
       "< 'Path' object of nodes with the following URI suffixes:\n",
       "\t[ dis_parkinsonian_disorders,\n",
       "\t ao_parkinsonian_motor_deficits,\n",
       "\t ke_degeneration_of_dopaminergic_neurons_of_the_nigrostriatal_pathway,\n",
       "\t ke_n/a,_mitochondrial_dysfunction_1,\n",
       "\t ke_inhibition,_nadh-ubiquinone_oxidoreductase__(complex_i),\n",
       "\t mie_binding_of_inhibitor,_nadh-ubiquinone_oxidoreductase_(complex_i) ] >"
      ]
     },
     "execution_count": 4,
     "metadata": {},
     "output_type": "execute_result"
    }
   ],
   "source": [
    "shortest_path"
   ]
  },
  {
   "cell_type": "code",
   "execution_count": 6,
   "metadata": {},
   "outputs": [
    {
     "data": {
      "text/plain": [
       "['http://jdr.bio/ontologies/comptox.owl#dis_parkinsonian_disorders',\n",
       " 'http://jdr.bio/ontologies/comptox.owl#ao_parkinsonian_motor_deficits',\n",
       " 'http://jdr.bio/ontologies/comptox.owl#ke_degeneration_of_dopaminergic_neurons_of_the_nigrostriatal_pathway',\n",
       " 'http://jdr.bio/ontologies/comptox.owl#ke_n/a,_mitochondrial_dysfunction_1',\n",
       " 'http://jdr.bio/ontologies/comptox.owl#ke_inhibition,_nadh-ubiquinone_oxidoreductase__(complex_i)',\n",
       " 'http://jdr.bio/ontologies/comptox.owl#mie_binding_of_inhibitor,_nadh-ubiquinone_oxidoreductase_(complex_i)']"
      ]
     },
     "execution_count": 6,
     "metadata": {},
     "output_type": "execute_result"
    }
   ],
   "source": [
    "shortest_path.get_uri_sequence()"
   ]
  },
  {
   "cell_type": "code",
   "execution_count": 7,
   "metadata": {},
   "outputs": [
    {
     "data": {
      "text/plain": [
       "<Record n=<Node id=169442 labels={'Resource', 'ns0__Disease', 'owl__NamedIndividual'} properties={'ns0__commonName': 'Parkinsonian Disorders', 'uri': 'http://jdr.bio/ontologies/comptox.owl#dis_parkinsonian_disorders', 'ns0__xrefMeSH': 'D020734'}>>"
      ]
     },
     "execution_count": 7,
     "metadata": {},
     "output_type": "execute_result"
    }
   ],
   "source": [
    "uri = shortest_path.get_uri_sequence()[0]\n",
    "cai.graph.fetch_node_by_uri(uri)"
   ]
  },
  {
   "cell_type": "code",
   "execution_count": null,
   "metadata": {},
   "outputs": [],
   "source": []
  }
 ],
 "metadata": {
  "kernelspec": {
   "display_name": "Python 3",
   "language": "python",
   "name": "python3"
  },
  "language_info": {
   "codemirror_mode": {
    "name": "ipython",
    "version": 3
   },
   "file_extension": ".py",
   "mimetype": "text/x-python",
   "name": "python",
   "nbconvert_exporter": "python",
   "pygments_lexer": "ipython3",
   "version": "3.7.4"
  }
 },
 "nbformat": 4,
 "nbformat_minor": 2
}
