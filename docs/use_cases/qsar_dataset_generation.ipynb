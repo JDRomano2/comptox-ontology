{
 "cells": [
  {
   "cell_type": "markdown",
   "metadata": {},
   "source": [
    "## Generating QSAR Datasets using ComptoxAI\n",
    "### Author: Joseph D. Romano, PhD (joseph.romano@pennmedicine.upenn.edu)\n",
    "\n",
    "ComptoxAI makes it easy to assemble datasets for use in Quantitative Structure-Activity Relationship modeling. We currently provide chemical fingerprints in the form of MACCS keys (a 160 bit array of binary features describing presence or absence of a large number of structural characteristics), but will likely add other fingerprint formats in the near future. Activity endpoints can be defined dynamically, and can be based on either specific chemical features (e.g., ontology annotations) or relationships (edges) to other entities in ComptoxAI's knowledge graph.\n",
    "\n",
    "Here, we generate a dataset of water contaminants and train a model to "
   ]
  },
  {
   "cell_type": "code",
   "execution_count": 2,
   "metadata": {},
   "outputs": [
    {
     "name": "stdout",
     "output_type": "stream",
     "text": [
      "Writing Cypher transaction: \n",
      "  CALL apoc.meta.stats();\n",
      "Writing Cypher transaction: \n",
      "  CALL apoc.meta.graph();\n"
     ]
    }
   ],
   "source": [
    "from comptox_ai.db import GraphDB\n",
    "\n",
    "db = GraphDB(hostname=\"comptox.ai\")"
   ]
  },
  {
   "cell_type": "code",
   "execution_count": null,
   "metadata": {},
   "outputs": [],
   "source": []
  }
 ],
 "metadata": {
  "interpreter": {
   "hash": "639342bcebd05bbcad2001648832180b1e51bb3d39c7e0b7b6f92f7648a7f928"
  },
  "kernelspec": {
   "display_name": "Python 3.7.5 64-bit ('comptox_ai': conda)",
   "language": "python",
   "name": "python3"
  },
  "language_info": {
   "codemirror_mode": {
    "name": "ipython",
    "version": 3
   },
   "file_extension": ".py",
   "mimetype": "text/x-python",
   "name": "python",
   "nbconvert_exporter": "python",
   "pygments_lexer": "ipython3",
   "version": "3.7.5"
  },
  "orig_nbformat": 4
 },
 "nbformat": 4,
 "nbformat_minor": 2
}
